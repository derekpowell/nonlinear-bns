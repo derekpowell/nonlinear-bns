{
 "cells": [
  {
   "cell_type": "code",
   "execution_count": 168,
   "metadata": {},
   "outputs": [
    {
     "data": {
      "text/html": [
       "<div>\n",
       "<style scoped>\n",
       "    .dataframe tbody tr th:only-of-type {\n",
       "        vertical-align: middle;\n",
       "    }\n",
       "\n",
       "    .dataframe tbody tr th {\n",
       "        vertical-align: top;\n",
       "    }\n",
       "\n",
       "    .dataframe thead th {\n",
       "        text-align: right;\n",
       "    }\n",
       "</style>\n",
       "<table border=\"1\" class=\"dataframe\">\n",
       "  <thead>\n",
       "    <tr style=\"text-align: right;\">\n",
       "      <th></th>\n",
       "      <th>diseaseRare</th>\n",
       "      <th>diseaseSevere</th>\n",
       "      <th>hb</th>\n",
       "      <th>infantImmLimCap</th>\n",
       "      <th>infantImmWeak</th>\n",
       "      <th>medSkept</th>\n",
       "      <th>nat</th>\n",
       "      <th>overpar</th>\n",
       "      <th>parentExpert</th>\n",
       "      <th>vaccDanger</th>\n",
       "      <th>vaccEff</th>\n",
       "      <th>vaccIntent</th>\n",
       "      <th>vaccStrain</th>\n",
       "      <th>vaccTox</th>\n",
       "    </tr>\n",
       "  </thead>\n",
       "  <tbody>\n",
       "    <tr>\n",
       "      <th>0</th>\n",
       "      <td>1.513743</td>\n",
       "      <td>0.349602</td>\n",
       "      <td>1.112192</td>\n",
       "      <td>-0.370259</td>\n",
       "      <td>-1.343816</td>\n",
       "      <td>-1.384762</td>\n",
       "      <td>0.115226</td>\n",
       "      <td>-0.051236</td>\n",
       "      <td>0.383666</td>\n",
       "      <td>-1.237144</td>\n",
       "      <td>0.363309</td>\n",
       "      <td>0.788035</td>\n",
       "      <td>-0.404044</td>\n",
       "      <td>-1.271407</td>\n",
       "    </tr>\n",
       "    <tr>\n",
       "      <th>1</th>\n",
       "      <td>-1.744974</td>\n",
       "      <td>1.136251</td>\n",
       "      <td>0.329358</td>\n",
       "      <td>1.867916</td>\n",
       "      <td>2.088321</td>\n",
       "      <td>1.888120</td>\n",
       "      <td>1.164339</td>\n",
       "      <td>0.861150</td>\n",
       "      <td>1.387124</td>\n",
       "      <td>1.701806</td>\n",
       "      <td>-1.960636</td>\n",
       "      <td>-1.534514</td>\n",
       "      <td>2.780358</td>\n",
       "      <td>2.428993</td>\n",
       "    </tr>\n",
       "    <tr>\n",
       "      <th>2</th>\n",
       "      <td>-0.115615</td>\n",
       "      <td>0.152940</td>\n",
       "      <td>0.133650</td>\n",
       "      <td>-0.542426</td>\n",
       "      <td>-0.036335</td>\n",
       "      <td>-0.194623</td>\n",
       "      <td>-0.334394</td>\n",
       "      <td>0.313719</td>\n",
       "      <td>0.383666</td>\n",
       "      <td>-0.318723</td>\n",
       "      <td>-0.217677</td>\n",
       "      <td>0.013852</td>\n",
       "      <td>-0.244824</td>\n",
       "      <td>-0.766807</td>\n",
       "    </tr>\n",
       "    <tr>\n",
       "      <th>3</th>\n",
       "      <td>0.970623</td>\n",
       "      <td>-1.223696</td>\n",
       "      <td>0.720775</td>\n",
       "      <td>-0.025924</td>\n",
       "      <td>-0.199770</td>\n",
       "      <td>-0.194623</td>\n",
       "      <td>0.414972</td>\n",
       "      <td>-0.051236</td>\n",
       "      <td>0.049180</td>\n",
       "      <td>0.416015</td>\n",
       "      <td>-0.992325</td>\n",
       "      <td>-1.224841</td>\n",
       "      <td>0.392057</td>\n",
       "      <td>0.242393</td>\n",
       "    </tr>\n",
       "    <tr>\n",
       "      <th>4</th>\n",
       "      <td>0.608544</td>\n",
       "      <td>-0.240384</td>\n",
       "      <td>1.699316</td>\n",
       "      <td>-0.714593</td>\n",
       "      <td>0.290535</td>\n",
       "      <td>0.102912</td>\n",
       "      <td>0.265099</td>\n",
       "      <td>0.131241</td>\n",
       "      <td>0.216423</td>\n",
       "      <td>1.334437</td>\n",
       "      <td>-1.379650</td>\n",
       "      <td>-1.224841</td>\n",
       "      <td>1.028937</td>\n",
       "      <td>1.419793</td>\n",
       "    </tr>\n",
       "  </tbody>\n",
       "</table>\n",
       "</div>"
      ],
      "text/plain": [
       "   diseaseRare  diseaseSevere        hb  infantImmLimCap  infantImmWeak  \\\n",
       "0     1.513743       0.349602  1.112192        -0.370259      -1.343816   \n",
       "1    -1.744974       1.136251  0.329358         1.867916       2.088321   \n",
       "2    -0.115615       0.152940  0.133650        -0.542426      -0.036335   \n",
       "3     0.970623      -1.223696  0.720775        -0.025924      -0.199770   \n",
       "4     0.608544      -0.240384  1.699316        -0.714593       0.290535   \n",
       "\n",
       "   medSkept       nat   overpar  parentExpert  vaccDanger   vaccEff  \\\n",
       "0 -1.384762  0.115226 -0.051236      0.383666   -1.237144  0.363309   \n",
       "1  1.888120  1.164339  0.861150      1.387124    1.701806 -1.960636   \n",
       "2 -0.194623 -0.334394  0.313719      0.383666   -0.318723 -0.217677   \n",
       "3 -0.194623  0.414972 -0.051236      0.049180    0.416015 -0.992325   \n",
       "4  0.102912  0.265099  0.131241      0.216423    1.334437 -1.379650   \n",
       "\n",
       "   vaccIntent  vaccStrain   vaccTox  \n",
       "0    0.788035   -0.404044 -1.271407  \n",
       "1   -1.534514    2.780358  2.428993  \n",
       "2    0.013852   -0.244824 -0.766807  \n",
       "3   -1.224841    0.392057  0.242393  \n",
       "4   -1.224841    1.028937  1.419793  "
      ]
     },
     "execution_count": 168,
     "metadata": {},
     "output_type": "execute_result"
    }
   ],
   "source": [
    "import pandas as pd\n",
    "import numpy as np\n",
    "from sklearn.model_selection import train_test_split\n",
    "from scipy.special import logit, expit\n",
    "\n",
    "\n",
    "def rescale_beta(x, lower=-3, upper=3):\n",
    "    res = (x - lower) / (upper - lower)\n",
    "    return((res * (len(x) - 1) + .5) / len(x))\n",
    "\n",
    "\n",
    "def standardize(x):\n",
    "    return( (x - np.mean(x))/np.std(x) )\n",
    "\n",
    "df = pd.read_csv(\"data/s1-data.csv\")\n",
    "\n",
    "df = df.apply(standardize)\n",
    "# df = df.apply(rescale_beta).apply(logit).apply(standardize)\n",
    "\n",
    "train, test = train_test_split(df.to_numpy(), test_size=0.2, random_state = 123)\n",
    "\n",
    "df.head()\n"
   ]
  },
  {
   "cell_type": "code",
   "execution_count": 169,
   "metadata": {},
   "outputs": [
    {
     "data": {
      "image/png": "[encoded data removed]",
      "text/plain": [
       "<Figure size 400x400 with 1 Axes>"
      ]
     },
     "metadata": {},
     "output_type": "display_data"
    }
   ],
   "source": [
    "bl = pd.read_csv(\"data/theory-bl.csv\")\n",
    "bl = bl[df.columns.to_list()].to_numpy()\n",
    "visualize_ground_truth(bl)\n"
   ]
  },
  {
   "cell_type": "code",
   "execution_count": 170,
   "metadata": {},
   "outputs": [],
   "source": [
    "import torch\n",
    "from dagma import utils\n",
    "from dagma.linear import DagmaLinear\n",
    "from dagma.nonlinear import DagmaMLP, DagmaNonlinear\n",
    "import matplotlib.pyplot as plt\n",
    "\n",
    "class DagmaMLP2(DagmaMLP):\n",
    "\n",
    "    def __init__(self, blackadj = None, **kwargs): # replace with \n",
    "        \n",
    "        super().__init__(**kwargs)\n",
    "        if blackadj is None:\n",
    "            self.blackadj = torch.zeros(self.d, self.d).detach()\n",
    "        else:\n",
    "            self.blackadj = blackadj.detach()\n",
    "\n",
    "    def h_func(self, s: float = 1.0) -> torch.Tensor:\n",
    "        r\"\"\"\n",
    "        Constrain 2-norm-squared of fc1 weights along m1 dim to be a DAG\n",
    "\n",
    "        Parameters\n",
    "        ----------\n",
    "        s : float, optional\n",
    "            Controls the domain of M-matrices, by default 1.0\n",
    "\n",
    "        Returns\n",
    "        -------\n",
    "        torch.Tensor\n",
    "            A scalar value of the log-det acyclicity function :math:`h(\\Theta)`.\n",
    "        \"\"\"\n",
    "        \n",
    "        fc1_weight = self.fc1.weight\n",
    "        fc1_weight = fc1_weight.view(self.d, -1, self.d)\n",
    "        A = torch.sum(fc1_weight ** 2, dim=1).t()  # [i, j]\n",
    "        h = -torch.slogdet(s * self.I - A)[1] + self.d * np.log(s) # +inf when not a DAG\n",
    "\n",
    "        return h + ((A * self.blackadj).sum())*1e16\n",
    "\n",
    "\n",
    "class DagmaLinear2(DagmaLinear):\n",
    "\n",
    "    def predict(self, X = None):\n",
    "        if X is None:\n",
    "            X = self.X\n",
    "\n",
    "        return X @ self.W_est\n",
    "\n",
    "\n",
    "def adj_to_edge_tuple(x):\n",
    "    bl_list = np.stack(np.nonzero(x), axis=-1).tolist()\n",
    "    return(tuple(tuple(sub) for sub in bl_list))\n",
    "\n",
    "\n",
    "def visualize_adj_matrix(mat, size=4.0):\n",
    "    \"\"\"    \n",
    "    `mat`: (d, d) \n",
    "    \"\"\"\n",
    "    ## from DIBS library: https://github.com/larslorch/dibs/tree/master\n",
    "    plt.rcParams['figure.figsize'] = [size, size]\n",
    "    fig, ax = plt.subplots(1, 1)\n",
    "    ax.matshow(mat, vmin=0, vmax=1)\n",
    "    plt.setp(ax.get_xticklabels(), visible=False)\n",
    "    plt.setp(ax.get_yticklabels(), visible=False)\n",
    "    ax.tick_params(axis='both', which='both', length=0)\n",
    "    ax.set_title(r'Graph $G^*$', pad=10)\n",
    "    plt.show()\n",
    "    return\n",
    "\n"
   ]
  },
  {
   "cell_type": "markdown",
   "metadata": {},
   "source": [
    "## Linear model"
   ]
  },
  {
   "cell_type": "code",
   "execution_count": 171,
   "metadata": {},
   "outputs": [
    {
     "data": {
      "application/json": {
       "ascii": false,
       "bar_format": null,
       "colour": null,
       "elapsed": 0.0030477046966552734,
       "initial": 0,
       "n": 0,
       "ncols": null,
       "nrows": 73,
       "postfix": null,
       "prefix": "",
       "rate": null,
       "total": 180000,
       "unit": "it",
       "unit_divisor": 1000,
       "unit_scale": false
      },
      "application/vnd.jupyter.widget-view+json": {
       "model_id": "217a8fbaf8d443a2bca54ee9046ad381",
       "version_major": 2,
       "version_minor": 0
      },
      "text/plain": [
       "  0%|          | 0/180000.0 [00:00<?, ?it/s]"
      ]
     },
     "metadata": {},
     "output_type": "display_data"
    }
   ],
   "source": [
    "model = DagmaLinear2(loss_type='l2') # create a linear model with least squares loss\n",
    "W_est = model.fit(train, lambda1=0.02, w_threshold = .1, exclude_edges = adj_to_edge_tuple(bl)) # fit the model with L1 reg. (coeff. 0.02)\n"
   ]
  },
  {
   "cell_type": "code",
   "execution_count": 172,
   "metadata": {},
   "outputs": [
    {
     "data": {
      "text/plain": [
       "(0.6350797475276595, 0.6351328766944406)"
      ]
     },
     "execution_count": 172,
     "metadata": {},
     "output_type": "execute_result"
    }
   ],
   "source": [
    "np.mean((train - model.predict(torch.tensor(train)).detach().numpy())**2), np.mean((test - model.predict(torch.tensor(test)).detach().numpy())**2)"
   ]
  },
  {
   "cell_type": "code",
   "execution_count": 173,
   "metadata": {},
   "outputs": [
    {
     "data": {
      "image/png": "[encoded data removed]",
      "text/plain": [
       "<Figure size 400x400 with 1 Axes>"
      ]
     },
     "metadata": {},
     "output_type": "display_data"
    },
    {
     "data": {
      "text/plain": [
       "20"
      ]
     },
     "execution_count": 173,
     "metadata": {},
     "output_type": "execute_result"
    }
   ],
   "source": [
    "visualize_adj_matrix(W_est)\n",
    "(W_est > 0).sum()"
   ]
  },
  {
   "cell_type": "markdown",
   "metadata": {},
   "source": [
    "## Non-linear model"
   ]
  },
  {
   "cell_type": "code",
   "execution_count": 178,
   "metadata": {},
   "outputs": [
    {
     "data": {
      "application/json": {
       "ascii": false,
       "bar_format": null,
       "colour": null,
       "elapsed": 0.0029778480529785156,
       "initial": 0,
       "n": 0,
       "ncols": null,
       "nrows": 73,
       "postfix": null,
       "prefix": "",
       "rate": null,
       "total": 230000,
       "unit": "it",
       "unit_divisor": 1000,
       "unit_scale": false
      },
      "application/vnd.jupyter.widget-view+json": {
       "model_id": "e60a2740ecbe434d8b0e59cc1bbbffd8",
       "version_major": 2,
       "version_minor": 0
      },
      "text/plain": [
       "  0%|          | 0/230000.0 [00:00<?, ?it/s]"
      ]
     },
     "metadata": {},
     "output_type": "display_data"
    }
   ],
   "source": [
    "eq_model = DagmaMLP2(dims=[14, 20, 1], bias=True, dtype=torch.double, blackadj = torch.tensor(bl)) # create the model for the structural equations, in this case MLPs\n",
    "model = DagmaNonlinear(eq_model, dtype=torch.double) # create the model for DAG learning\n",
    "W_est = model.fit(train, lambda1=0.02, lambda2=0.005, w_threshold=.1) # fit the model with L1 reg. (coeff. 0.02) and L2 reg. (coeff. 0.005)"
   ]
  },
  {
   "cell_type": "code",
   "execution_count": 180,
   "metadata": {},
   "outputs": [
    {
     "data": {
      "text/plain": [
       "(0.6273832594128869, 0.6251658273769235)"
      ]
     },
     "execution_count": 180,
     "metadata": {},
     "output_type": "execute_result"
    }
   ],
   "source": [
    "np.mean((train - model.model(torch.tensor(train)).detach().numpy())**2), np.mean((test - model.model(torch.tensor(test)).detach().numpy())**2)"
   ]
  },
  {
   "cell_type": "markdown",
   "metadata": {},
   "source": [
    "## Visualizing results\n",
    "\n",
    "From the non-linear model."
   ]
  },
  {
   "cell_type": "code",
   "execution_count": 181,
   "metadata": {},
   "outputs": [
    {
     "data": {
      "image/png": "[encoded data removed]",
      "text/plain": [
       "<Figure size 400x400 with 1 Axes>"
      ]
     },
     "metadata": {},
     "output_type": "display_data"
    },
    {
     "data": {
      "text/plain": [
       "34"
      ]
     },
     "execution_count": 181,
     "metadata": {},
     "output_type": "execute_result"
    }
   ],
   "source": [
    "visualize_adj_matrix(W_est)\n",
    "(W_est > 0).sum()"
   ]
  },
  {
   "cell_type": "code",
   "execution_count": null,
   "metadata": {},
   "outputs": [],
   "source": []
  }
 ],
 "metadata": {
  "kernelspec": {
   "display_name": "jaxtorch",
   "language": "python",
   "name": "python3"
  },
  "language_info": {
   "codemirror_mode": {
    "name": "ipython",
    "version": 3
   },
   "file_extension": ".py",
   "mimetype": "text/x-python",
   "name": "python",
   "nbconvert_exporter": "python",
   "pygments_lexer": "ipython3",
   "version": "3.9.18"
  }
 },
 "nbformat": 4,
 "nbformat_minor": 2
}
